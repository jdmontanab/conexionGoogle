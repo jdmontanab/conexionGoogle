{
  "nbformat": 4,
  "nbformat_minor": 0,
  "metadata": {
    "colab": {
      "name": "ConectionGoogleandPlanet",
      "provenance": [],
      "authorship_tag": "ABX9TyOnLYGmwf5hew8NT5w57+vI",
      "include_colab_link": true
    },
    "kernelspec": {
      "name": "python3",
      "display_name": "Python 3"
    },
    "language_info": {
      "name": "python"
    }
  },
  "cells": [
    {
      "cell_type": "markdown",
      "metadata": {
        "id": "view-in-github",
        "colab_type": "text"
      },
      "source": [
        "<a href=\"https://colab.research.google.com/github/jdmontanab/conexionGoogle/blob/main/ConectionGoogleandPlanet.ipynb\" target=\"_parent\"><img src=\"https://colab.research.google.com/assets/colab-badge.svg\" alt=\"Open In Colab\"/></a>"
      ]
    },
    {
      "cell_type": "code",
      "execution_count": null,
      "metadata": {
        "colab": {
          "base_uri": "https://localhost:8080/"
        },
        "id": "XGVnqMXhDgj3",
        "outputId": "10f7f622-56f6-4a84-9dfa-e447e728bddc"
      },
      "outputs": [
        {
          "output_type": "stream",
          "name": "stdout",
          "text": [
            "Looking in indexes: https://pypi.org/simple, https://us-python.pkg.dev/colab-wheels/public/simple/\n",
            "Collecting mysql-connector-python\n",
            "  Downloading mysql_connector_python-8.0.30-cp37-cp37m-manylinux1_x86_64.whl (25.4 MB)\n",
            "\u001b[K     |████████████████████████████████| 25.4 MB 3.0 MB/s \n",
            "\u001b[?25hRequirement already satisfied: protobuf<=3.20.1,>=3.11.0 in /usr/local/lib/python3.7/dist-packages (from mysql-connector-python) (3.17.3)\n",
            "Requirement already satisfied: six>=1.9 in /usr/local/lib/python3.7/dist-packages (from protobuf<=3.20.1,>=3.11.0->mysql-connector-python) (1.15.0)\n",
            "Installing collected packages: mysql-connector-python\n",
            "Successfully installed mysql-connector-python-8.0.30\n"
          ]
        }
      ],
      "source": [
        "pip install mysql-connector-python"
      ]
    },
    {
      "cell_type": "code",
      "source": [
        "pip install python-dotenv mysqlclient"
      ],
      "metadata": {
        "colab": {
          "base_uri": "https://localhost:8080/"
        },
        "id": "40gSUNyNDsAj",
        "outputId": "54d7710a-bad3-41dc-a070-c78f96ea0ca6"
      },
      "execution_count": null,
      "outputs": [
        {
          "output_type": "stream",
          "name": "stdout",
          "text": [
            "Looking in indexes: https://pypi.org/simple, https://us-python.pkg.dev/colab-wheels/public/simple/\n",
            "Collecting python-dotenv\n",
            "  Downloading python_dotenv-0.20.0-py3-none-any.whl (17 kB)\n",
            "Collecting mysqlclient\n",
            "  Downloading mysqlclient-2.1.1.tar.gz (88 kB)\n",
            "\u001b[K     |████████████████████████████████| 88 kB 6.5 MB/s \n",
            "\u001b[?25hBuilding wheels for collected packages: mysqlclient\n",
            "  Building wheel for mysqlclient (setup.py) ... \u001b[?25l\u001b[?25hdone\n",
            "  Created wheel for mysqlclient: filename=mysqlclient-2.1.1-cp37-cp37m-linux_x86_64.whl size=99977 sha256=64e3fa5d7f7ecca108a004a3b7b8a2b16b937a8eff33bf6c95cf6e368c03e15e\n",
            "  Stored in directory: /root/.cache/pip/wheels/95/2d/67/2cb3f82e435fc8e055cb2761a15a0812bf086068f6fb835462\n",
            "Successfully built mysqlclient\n",
            "Installing collected packages: python-dotenv, mysqlclient\n",
            "Successfully installed mysqlclient-2.1.1 python-dotenv-0.20.0\n"
          ]
        }
      ]
    },
    {
      "cell_type": "code",
      "source": [
        "import mysql.connector\n",
        "\n",
        "mydb = mysql.connector.connect(\n",
        "  host=\"us-east.connect.psdb.cloud\",\n",
        "  user=\"alhzpxtzb8trym8mlqsc\",\n",
        "  password=\"pscale_pw_4k9RFJXkaQzcykY3KBqvS0OO4Lmm3Hnq0EHTbKtIPG\",\n",
        "  database=\"mydb\"\n",
        ")\n",
        "\n",
        "mycursor = mydb.cursor()\n",
        "\n",
        "mycursor.execute(\"SELECT * FROM customers\")\n",
        "\n",
        "myresult = mycursor.fetchall()\n",
        "\n",
        "for x in myresult:\n",
        "  print(x)"
      ],
      "metadata": {
        "colab": {
          "base_uri": "https://localhost:8080/"
        },
        "id": "iyyCcwVDHrPR",
        "outputId": "e1aa533a-e2cd-4ea3-9492-f1306eb46b81"
      },
      "execution_count": 16,
      "outputs": [
        {
          "output_type": "stream",
          "name": "stdout",
          "text": [
            "('John', 'Highway 21')\n",
            "('Peter', 'Lowstreet 4')\n",
            "('Amy', 'Apple st 652')\n",
            "('Hannah', 'Mountain 21')\n",
            "('Michael', 'Valley 345')\n",
            "('Sandy', 'Ocean blvd 2')\n",
            "('Betty', 'Green Grass 1')\n",
            "('Richard', 'Sky st 331')\n",
            "('Susan', 'One way 98')\n",
            "('Vicky', 'Yellow Garden 2')\n",
            "('Ben', 'Park Lane 38')\n",
            "('William', 'Central st 954')\n",
            "('Chuck', 'Main Road 989')\n",
            "('Viola', 'Sideway 1633')\n"
          ]
        }
      ]
    }
  ]
}